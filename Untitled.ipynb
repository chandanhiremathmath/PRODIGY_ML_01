{
 "cells": [
  {
   "cell_type": "code",
   "execution_count": 2,
   "metadata": {},
   "outputs": [],
   "source": [
    "import pandas as pd\n",
    "import numpy as np\n",
    "import seaborn as sns\n",
    "import matplotlib.pyplot as plt\n",
    "\n",
    "%matplotlib inline "
   ]
  },
  {
   "cell_type": "code",
   "execution_count": 3,
   "metadata": {},
   "outputs": [],
   "source": [
    "HouseDF = pd.read_excel('data.xlsx')"
   ]
  },
  {
   "cell_type": "code",
   "execution_count": 4,
   "metadata": {},
   "outputs": [
    {
     "data": {
      "text/html": [
       "<div>\n",
       "<style scoped>\n",
       "    .dataframe tbody tr th:only-of-type {\n",
       "        vertical-align: middle;\n",
       "    }\n",
       "\n",
       "    .dataframe tbody tr th {\n",
       "        vertical-align: top;\n",
       "    }\n",
       "\n",
       "    .dataframe thead th {\n",
       "        text-align: right;\n",
       "    }\n",
       "</style>\n",
       "<table border=\"1\" class=\"dataframe\">\n",
       "  <thead>\n",
       "    <tr style=\"text-align: right;\">\n",
       "      <th></th>\n",
       "      <th>Unnamed: 0</th>\n",
       "      <th>Avg.area income</th>\n",
       "      <th>Avg.area House age</th>\n",
       "      <th>Avg.area no of rooms</th>\n",
       "      <th>Avg.areas no of bedrooms</th>\n",
       "      <th>Area Population</th>\n",
       "      <th>Price</th>\n",
       "      <th>Address</th>\n",
       "    </tr>\n",
       "  </thead>\n",
       "  <tbody>\n",
       "    <tr>\n",
       "      <th>0</th>\n",
       "      <td>0</td>\n",
       "      <td>79545.458574</td>\n",
       "      <td>5.682861</td>\n",
       "      <td>7.009188</td>\n",
       "      <td>5.05</td>\n",
       "      <td>23086.800503</td>\n",
       "      <td>1059034</td>\n",
       "      <td>Davangere</td>\n",
       "    </tr>\n",
       "    <tr>\n",
       "      <th>1</th>\n",
       "      <td>1</td>\n",
       "      <td>79546.458574</td>\n",
       "      <td>6.682861</td>\n",
       "      <td>8.009188</td>\n",
       "      <td>6.05</td>\n",
       "      <td>23087.800503</td>\n",
       "      <td>1059035</td>\n",
       "      <td>Haveri</td>\n",
       "    </tr>\n",
       "    <tr>\n",
       "      <th>2</th>\n",
       "      <td>2</td>\n",
       "      <td>79547.458574</td>\n",
       "      <td>7.682861</td>\n",
       "      <td>9.009188</td>\n",
       "      <td>7.05</td>\n",
       "      <td>23088.800503</td>\n",
       "      <td>1059036</td>\n",
       "      <td>Durga</td>\n",
       "    </tr>\n",
       "    <tr>\n",
       "      <th>3</th>\n",
       "      <td>3</td>\n",
       "      <td>79548.458574</td>\n",
       "      <td>8.682861</td>\n",
       "      <td>10.009188</td>\n",
       "      <td>8.05</td>\n",
       "      <td>23089.800503</td>\n",
       "      <td>1059037</td>\n",
       "      <td>Dharwad</td>\n",
       "    </tr>\n",
       "    <tr>\n",
       "      <th>4</th>\n",
       "      <td>4</td>\n",
       "      <td>79549.458574</td>\n",
       "      <td>9.682861</td>\n",
       "      <td>11.009188</td>\n",
       "      <td>9.05</td>\n",
       "      <td>23090.800503</td>\n",
       "      <td>1059038</td>\n",
       "      <td>Hubbali</td>\n",
       "    </tr>\n",
       "  </tbody>\n",
       "</table>\n",
       "</div>"
      ],
      "text/plain": [
       "   Unnamed: 0  Avg.area income  Avg.area House age  Avg.area no of rooms  \\\n",
       "0           0     79545.458574            5.682861              7.009188   \n",
       "1           1     79546.458574            6.682861              8.009188   \n",
       "2           2     79547.458574            7.682861              9.009188   \n",
       "3           3     79548.458574            8.682861             10.009188   \n",
       "4           4     79549.458574            9.682861             11.009188   \n",
       "\n",
       "   Avg.areas no of bedrooms  Area Population    Price    Address  \n",
       "0                      5.05     23086.800503  1059034  Davangere  \n",
       "1                      6.05     23087.800503  1059035     Haveri  \n",
       "2                      7.05     23088.800503  1059036      Durga  \n",
       "3                      8.05     23089.800503  1059037    Dharwad  \n",
       "4                      9.05     23090.800503  1059038    Hubbali  "
      ]
     },
     "execution_count": 4,
     "metadata": {},
     "output_type": "execute_result"
    }
   ],
   "source": [
    "HouseDF.head()"
   ]
  },
  {
   "cell_type": "code",
   "execution_count": 5,
   "metadata": {},
   "outputs": [
    {
     "name": "stdout",
     "output_type": "stream",
     "text": [
      "<class 'pandas.core.frame.DataFrame'>\n",
      "RangeIndex: 51 entries, 0 to 50\n",
      "Data columns (total 8 columns):\n",
      " #   Column                    Non-Null Count  Dtype  \n",
      "---  ------                    --------------  -----  \n",
      " 0   Unnamed: 0                51 non-null     int64  \n",
      " 1   Avg.area income           51 non-null     float64\n",
      " 2   Avg.area House age        51 non-null     float64\n",
      " 3   Avg.area no of rooms      51 non-null     float64\n",
      " 4   Avg.areas no of bedrooms  51 non-null     float64\n",
      " 5   Area Population           51 non-null     float64\n",
      " 6   Price                     51 non-null     int64  \n",
      " 7   Address                   51 non-null     object \n",
      "dtypes: float64(5), int64(2), object(1)\n",
      "memory usage: 3.3+ KB\n"
     ]
    }
   ],
   "source": [
    "HouseDF.info()"
   ]
  },
  {
   "cell_type": "code",
   "execution_count": 6,
   "metadata": {},
   "outputs": [
    {
     "data": {
      "text/html": [
       "<div>\n",
       "<style scoped>\n",
       "    .dataframe tbody tr th:only-of-type {\n",
       "        vertical-align: middle;\n",
       "    }\n",
       "\n",
       "    .dataframe tbody tr th {\n",
       "        vertical-align: top;\n",
       "    }\n",
       "\n",
       "    .dataframe thead th {\n",
       "        text-align: right;\n",
       "    }\n",
       "</style>\n",
       "<table border=\"1\" class=\"dataframe\">\n",
       "  <thead>\n",
       "    <tr style=\"text-align: right;\">\n",
       "      <th></th>\n",
       "      <th>Unnamed: 0</th>\n",
       "      <th>Avg.area income</th>\n",
       "      <th>Avg.area House age</th>\n",
       "      <th>Avg.area no of rooms</th>\n",
       "      <th>Avg.areas no of bedrooms</th>\n",
       "      <th>Area Population</th>\n",
       "      <th>Price</th>\n",
       "    </tr>\n",
       "  </thead>\n",
       "  <tbody>\n",
       "    <tr>\n",
       "      <th>count</th>\n",
       "      <td>51.000000</td>\n",
       "      <td>51.000000</td>\n",
       "      <td>51.000000</td>\n",
       "      <td>51.000000</td>\n",
       "      <td>51.000000</td>\n",
       "      <td>51.000000</td>\n",
       "      <td>5.100000e+01</td>\n",
       "    </tr>\n",
       "    <tr>\n",
       "      <th>mean</th>\n",
       "      <td>25.000000</td>\n",
       "      <td>79570.458574</td>\n",
       "      <td>30.682861</td>\n",
       "      <td>32.009188</td>\n",
       "      <td>30.050000</td>\n",
       "      <td>23111.800503</td>\n",
       "      <td>1.059059e+06</td>\n",
       "    </tr>\n",
       "    <tr>\n",
       "      <th>std</th>\n",
       "      <td>14.866069</td>\n",
       "      <td>14.866069</td>\n",
       "      <td>14.866069</td>\n",
       "      <td>14.866069</td>\n",
       "      <td>14.866069</td>\n",
       "      <td>14.866069</td>\n",
       "      <td>1.486607e+01</td>\n",
       "    </tr>\n",
       "    <tr>\n",
       "      <th>min</th>\n",
       "      <td>0.000000</td>\n",
       "      <td>79545.458574</td>\n",
       "      <td>5.682861</td>\n",
       "      <td>7.009188</td>\n",
       "      <td>5.050000</td>\n",
       "      <td>23086.800503</td>\n",
       "      <td>1.059034e+06</td>\n",
       "    </tr>\n",
       "    <tr>\n",
       "      <th>25%</th>\n",
       "      <td>12.500000</td>\n",
       "      <td>79557.958574</td>\n",
       "      <td>18.182861</td>\n",
       "      <td>19.509188</td>\n",
       "      <td>17.550000</td>\n",
       "      <td>23099.300503</td>\n",
       "      <td>1.059046e+06</td>\n",
       "    </tr>\n",
       "    <tr>\n",
       "      <th>50%</th>\n",
       "      <td>25.000000</td>\n",
       "      <td>79570.458574</td>\n",
       "      <td>30.682861</td>\n",
       "      <td>32.009188</td>\n",
       "      <td>30.050000</td>\n",
       "      <td>23111.800503</td>\n",
       "      <td>1.059059e+06</td>\n",
       "    </tr>\n",
       "    <tr>\n",
       "      <th>75%</th>\n",
       "      <td>37.500000</td>\n",
       "      <td>79582.958574</td>\n",
       "      <td>43.182861</td>\n",
       "      <td>44.509188</td>\n",
       "      <td>42.550000</td>\n",
       "      <td>23124.300503</td>\n",
       "      <td>1.059072e+06</td>\n",
       "    </tr>\n",
       "    <tr>\n",
       "      <th>max</th>\n",
       "      <td>50.000000</td>\n",
       "      <td>79595.458574</td>\n",
       "      <td>55.682861</td>\n",
       "      <td>57.009188</td>\n",
       "      <td>55.050000</td>\n",
       "      <td>23136.800503</td>\n",
       "      <td>1.059084e+06</td>\n",
       "    </tr>\n",
       "  </tbody>\n",
       "</table>\n",
       "</div>"
      ],
      "text/plain": [
       "       Unnamed: 0  Avg.area income  Avg.area House age  Avg.area no of rooms  \\\n",
       "count   51.000000        51.000000           51.000000             51.000000   \n",
       "mean    25.000000     79570.458574           30.682861             32.009188   \n",
       "std     14.866069        14.866069           14.866069             14.866069   \n",
       "min      0.000000     79545.458574            5.682861              7.009188   \n",
       "25%     12.500000     79557.958574           18.182861             19.509188   \n",
       "50%     25.000000     79570.458574           30.682861             32.009188   \n",
       "75%     37.500000     79582.958574           43.182861             44.509188   \n",
       "max     50.000000     79595.458574           55.682861             57.009188   \n",
       "\n",
       "       Avg.areas no of bedrooms  Area Population         Price  \n",
       "count                 51.000000        51.000000  5.100000e+01  \n",
       "mean                  30.050000     23111.800503  1.059059e+06  \n",
       "std                   14.866069        14.866069  1.486607e+01  \n",
       "min                    5.050000     23086.800503  1.059034e+06  \n",
       "25%                   17.550000     23099.300503  1.059046e+06  \n",
       "50%                   30.050000     23111.800503  1.059059e+06  \n",
       "75%                   42.550000     23124.300503  1.059072e+06  \n",
       "max                   55.050000     23136.800503  1.059084e+06  "
      ]
     },
     "execution_count": 6,
     "metadata": {},
     "output_type": "execute_result"
    }
   ],
   "source": [
    "HouseDF.describe()"
   ]
  },
  {
   "cell_type": "code",
   "execution_count": 7,
   "metadata": {},
   "outputs": [
    {
     "data": {
      "text/plain": [
       "Index(['Unnamed: 0', 'Avg.area income', 'Avg.area House age',\n",
       "       'Avg.area no of rooms', 'Avg.areas no of bedrooms', 'Area Population',\n",
       "       'Price', 'Address'],\n",
       "      dtype='object')"
      ]
     },
     "execution_count": 7,
     "metadata": {},
     "output_type": "execute_result"
    }
   ],
   "source": [
    "HouseDF.columns"
   ]
  },
  {
   "cell_type": "code",
   "execution_count": 8,
   "metadata": {},
   "outputs": [
    {
     "data": {
      "text/plain": [
       "<seaborn.axisgrid.PairGrid at 0x1e205985bb0>"
      ]
     },
     "execution_count": 8,
     "metadata": {},
     "output_type": "execute_result"
    },
    {
     "data": {
      "image/png": "[encoded data removed]",
      "text/plain": [
       "<Figure size 1260x1260 with 56 Axes>"
      ]
     },
     "metadata": {
      "needs_background": "light"
     },
     "output_type": "display_data"
    }
   ],
   "source": [
    "sns.pairplot(HouseDF)"
   ]
  },
  {
   "cell_type": "code",
   "execution_count": 9,
   "metadata": {},
   "outputs": [
    {
     "data": {
      "text/plain": [
       "<matplotlib.axes._subplots.AxesSubplot at 0x1e207c53730>"
      ]
     },
     "execution_count": 9,
     "metadata": {},
     "output_type": "execute_result"
    },
    {
     "data": {
      "image/png": "[encoded data removed]",
      "text/plain": [
       "<Figure size 432x288 with 2 Axes>"
      ]
     },
     "metadata": {
      "needs_background": "light"
     },
     "output_type": "display_data"
    }
   ],
   "source": [
    "sns.heatmap(HouseDF.corr(), annot=True)"
   ]
  },
  {
   "cell_type": "code",
   "execution_count": 11,
   "metadata": {
    "scrolled": true
   },
   "outputs": [],
   "source": [
    "X = HouseDF[['Avg.area income', 'Avg.area House age',\n",
    "       'Avg.area no of rooms', 'Avg.areas no of bedrooms', 'Area Population',]]\n",
    "y = HouseDF['Price']"
   ]
  },
  {
   "cell_type": "code",
   "execution_count": 12,
   "metadata": {},
   "outputs": [],
   "source": [
    "from sklearn.model_selection import train_test_split"
   ]
  },
  {
   "cell_type": "code",
   "execution_count": 13,
   "metadata": {},
   "outputs": [],
   "source": [
    "X_train, X_test, y_train, y_test = train_test_split(X, y, test_size=0.40, random_state=101)"
   ]
  },
  {
   "cell_type": "code",
   "execution_count": 14,
   "metadata": {},
   "outputs": [
    {
     "data": {
      "text/html": [
       "<div>\n",
       "<style scoped>\n",
       "    .dataframe tbody tr th:only-of-type {\n",
       "        vertical-align: middle;\n",
       "    }\n",
       "\n",
       "    .dataframe tbody tr th {\n",
       "        vertical-align: top;\n",
       "    }\n",
       "\n",
       "    .dataframe thead th {\n",
       "        text-align: right;\n",
       "    }\n",
       "</style>\n",
       "<table border=\"1\" class=\"dataframe\">\n",
       "  <thead>\n",
       "    <tr style=\"text-align: right;\">\n",
       "      <th></th>\n",
       "      <th>Avg.area income</th>\n",
       "      <th>Avg.area House age</th>\n",
       "      <th>Avg.area no of rooms</th>\n",
       "      <th>Avg.areas no of bedrooms</th>\n",
       "      <th>Area Population</th>\n",
       "    </tr>\n",
       "  </thead>\n",
       "  <tbody>\n",
       "    <tr>\n",
       "      <th>38</th>\n",
       "      <td>79583.458574</td>\n",
       "      <td>43.682861</td>\n",
       "      <td>45.009188</td>\n",
       "      <td>43.05</td>\n",
       "      <td>23124.800503</td>\n",
       "    </tr>\n",
       "    <tr>\n",
       "      <th>45</th>\n",
       "      <td>79590.458574</td>\n",
       "      <td>50.682861</td>\n",
       "      <td>52.009188</td>\n",
       "      <td>50.05</td>\n",
       "      <td>23131.800503</td>\n",
       "    </tr>\n",
       "    <tr>\n",
       "      <th>39</th>\n",
       "      <td>79584.458574</td>\n",
       "      <td>44.682861</td>\n",
       "      <td>46.009188</td>\n",
       "      <td>44.05</td>\n",
       "      <td>23125.800503</td>\n",
       "    </tr>\n",
       "    <tr>\n",
       "      <th>10</th>\n",
       "      <td>79555.458574</td>\n",
       "      <td>15.682861</td>\n",
       "      <td>17.009188</td>\n",
       "      <td>15.05</td>\n",
       "      <td>23096.800503</td>\n",
       "    </tr>\n",
       "    <tr>\n",
       "      <th>50</th>\n",
       "      <td>79595.458574</td>\n",
       "      <td>55.682861</td>\n",
       "      <td>57.009188</td>\n",
       "      <td>55.05</td>\n",
       "      <td>23136.800503</td>\n",
       "    </tr>\n",
       "    <tr>\n",
       "      <th>25</th>\n",
       "      <td>79570.458574</td>\n",
       "      <td>30.682861</td>\n",
       "      <td>32.009188</td>\n",
       "      <td>30.05</td>\n",
       "      <td>23111.800503</td>\n",
       "    </tr>\n",
       "    <tr>\n",
       "      <th>33</th>\n",
       "      <td>79578.458574</td>\n",
       "      <td>38.682861</td>\n",
       "      <td>40.009188</td>\n",
       "      <td>38.05</td>\n",
       "      <td>23119.800503</td>\n",
       "    </tr>\n",
       "    <tr>\n",
       "      <th>36</th>\n",
       "      <td>79581.458574</td>\n",
       "      <td>41.682861</td>\n",
       "      <td>43.009188</td>\n",
       "      <td>41.05</td>\n",
       "      <td>23122.800503</td>\n",
       "    </tr>\n",
       "    <tr>\n",
       "      <th>2</th>\n",
       "      <td>79547.458574</td>\n",
       "      <td>7.682861</td>\n",
       "      <td>9.009188</td>\n",
       "      <td>7.05</td>\n",
       "      <td>23088.800503</td>\n",
       "    </tr>\n",
       "    <tr>\n",
       "      <th>27</th>\n",
       "      <td>79572.458574</td>\n",
       "      <td>32.682861</td>\n",
       "      <td>34.009188</td>\n",
       "      <td>32.05</td>\n",
       "      <td>23113.800503</td>\n",
       "    </tr>\n",
       "    <tr>\n",
       "      <th>34</th>\n",
       "      <td>79579.458574</td>\n",
       "      <td>39.682861</td>\n",
       "      <td>41.009188</td>\n",
       "      <td>39.05</td>\n",
       "      <td>23120.800503</td>\n",
       "    </tr>\n",
       "    <tr>\n",
       "      <th>35</th>\n",
       "      <td>79580.458574</td>\n",
       "      <td>40.682861</td>\n",
       "      <td>42.009188</td>\n",
       "      <td>40.05</td>\n",
       "      <td>23121.800503</td>\n",
       "    </tr>\n",
       "    <tr>\n",
       "      <th>8</th>\n",
       "      <td>79553.458574</td>\n",
       "      <td>13.682861</td>\n",
       "      <td>15.009188</td>\n",
       "      <td>13.05</td>\n",
       "      <td>23094.800503</td>\n",
       "    </tr>\n",
       "    <tr>\n",
       "      <th>19</th>\n",
       "      <td>79564.458574</td>\n",
       "      <td>24.682861</td>\n",
       "      <td>26.009188</td>\n",
       "      <td>24.05</td>\n",
       "      <td>23105.800503</td>\n",
       "    </tr>\n",
       "    <tr>\n",
       "      <th>29</th>\n",
       "      <td>79574.458574</td>\n",
       "      <td>34.682861</td>\n",
       "      <td>36.009188</td>\n",
       "      <td>34.05</td>\n",
       "      <td>23115.800503</td>\n",
       "    </tr>\n",
       "    <tr>\n",
       "      <th>12</th>\n",
       "      <td>79557.458574</td>\n",
       "      <td>17.682861</td>\n",
       "      <td>19.009188</td>\n",
       "      <td>17.05</td>\n",
       "      <td>23098.800503</td>\n",
       "    </tr>\n",
       "    <tr>\n",
       "      <th>5</th>\n",
       "      <td>79550.458574</td>\n",
       "      <td>10.682861</td>\n",
       "      <td>12.009188</td>\n",
       "      <td>10.05</td>\n",
       "      <td>23091.800503</td>\n",
       "    </tr>\n",
       "    <tr>\n",
       "      <th>0</th>\n",
       "      <td>79545.458574</td>\n",
       "      <td>5.682861</td>\n",
       "      <td>7.009188</td>\n",
       "      <td>5.05</td>\n",
       "      <td>23086.800503</td>\n",
       "    </tr>\n",
       "    <tr>\n",
       "      <th>28</th>\n",
       "      <td>79573.458574</td>\n",
       "      <td>33.682861</td>\n",
       "      <td>35.009188</td>\n",
       "      <td>33.05</td>\n",
       "      <td>23114.800503</td>\n",
       "    </tr>\n",
       "    <tr>\n",
       "      <th>42</th>\n",
       "      <td>79587.458574</td>\n",
       "      <td>47.682861</td>\n",
       "      <td>49.009188</td>\n",
       "      <td>47.05</td>\n",
       "      <td>23128.800503</td>\n",
       "    </tr>\n",
       "    <tr>\n",
       "      <th>4</th>\n",
       "      <td>79549.458574</td>\n",
       "      <td>9.682861</td>\n",
       "      <td>11.009188</td>\n",
       "      <td>9.05</td>\n",
       "      <td>23090.800503</td>\n",
       "    </tr>\n",
       "    <tr>\n",
       "      <th>40</th>\n",
       "      <td>79585.458574</td>\n",
       "      <td>45.682861</td>\n",
       "      <td>47.009188</td>\n",
       "      <td>45.05</td>\n",
       "      <td>23126.800503</td>\n",
       "    </tr>\n",
       "    <tr>\n",
       "      <th>13</th>\n",
       "      <td>79558.458574</td>\n",
       "      <td>18.682861</td>\n",
       "      <td>20.009188</td>\n",
       "      <td>18.05</td>\n",
       "      <td>23099.800503</td>\n",
       "    </tr>\n",
       "    <tr>\n",
       "      <th>9</th>\n",
       "      <td>79554.458574</td>\n",
       "      <td>14.682861</td>\n",
       "      <td>16.009188</td>\n",
       "      <td>14.05</td>\n",
       "      <td>23095.800503</td>\n",
       "    </tr>\n",
       "    <tr>\n",
       "      <th>49</th>\n",
       "      <td>79594.458574</td>\n",
       "      <td>54.682861</td>\n",
       "      <td>56.009188</td>\n",
       "      <td>54.05</td>\n",
       "      <td>23135.800503</td>\n",
       "    </tr>\n",
       "    <tr>\n",
       "      <th>23</th>\n",
       "      <td>79568.458574</td>\n",
       "      <td>28.682861</td>\n",
       "      <td>30.009188</td>\n",
       "      <td>28.05</td>\n",
       "      <td>23109.800503</td>\n",
       "    </tr>\n",
       "    <tr>\n",
       "      <th>6</th>\n",
       "      <td>79551.458574</td>\n",
       "      <td>11.682861</td>\n",
       "      <td>13.009188</td>\n",
       "      <td>11.05</td>\n",
       "      <td>23092.800503</td>\n",
       "    </tr>\n",
       "    <tr>\n",
       "      <th>17</th>\n",
       "      <td>79562.458574</td>\n",
       "      <td>22.682861</td>\n",
       "      <td>24.009188</td>\n",
       "      <td>22.05</td>\n",
       "      <td>23103.800503</td>\n",
       "    </tr>\n",
       "    <tr>\n",
       "      <th>11</th>\n",
       "      <td>79556.458574</td>\n",
       "      <td>16.682861</td>\n",
       "      <td>18.009188</td>\n",
       "      <td>16.05</td>\n",
       "      <td>23097.800503</td>\n",
       "    </tr>\n",
       "    <tr>\n",
       "      <th>31</th>\n",
       "      <td>79576.458574</td>\n",
       "      <td>36.682861</td>\n",
       "      <td>38.009188</td>\n",
       "      <td>36.05</td>\n",
       "      <td>23117.800503</td>\n",
       "    </tr>\n",
       "  </tbody>\n",
       "</table>\n",
       "</div>"
      ],
      "text/plain": [
       "    Avg.area income  Avg.area House age  Avg.area no of rooms  \\\n",
       "38     79583.458574           43.682861             45.009188   \n",
       "45     79590.458574           50.682861             52.009188   \n",
       "39     79584.458574           44.682861             46.009188   \n",
       "10     79555.458574           15.682861             17.009188   \n",
       "50     79595.458574           55.682861             57.009188   \n",
       "25     79570.458574           30.682861             32.009188   \n",
       "33     79578.458574           38.682861             40.009188   \n",
       "36     79581.458574           41.682861             43.009188   \n",
       "2      79547.458574            7.682861              9.009188   \n",
       "27     79572.458574           32.682861             34.009188   \n",
       "34     79579.458574           39.682861             41.009188   \n",
       "35     79580.458574           40.682861             42.009188   \n",
       "8      79553.458574           13.682861             15.009188   \n",
       "19     79564.458574           24.682861             26.009188   \n",
       "29     79574.458574           34.682861             36.009188   \n",
       "12     79557.458574           17.682861             19.009188   \n",
       "5      79550.458574           10.682861             12.009188   \n",
       "0      79545.458574            5.682861              7.009188   \n",
       "28     79573.458574           33.682861             35.009188   \n",
       "42     79587.458574           47.682861             49.009188   \n",
       "4      79549.458574            9.682861             11.009188   \n",
       "40     79585.458574           45.682861             47.009188   \n",
       "13     79558.458574           18.682861             20.009188   \n",
       "9      79554.458574           14.682861             16.009188   \n",
       "49     79594.458574           54.682861             56.009188   \n",
       "23     79568.458574           28.682861             30.009188   \n",
       "6      79551.458574           11.682861             13.009188   \n",
       "17     79562.458574           22.682861             24.009188   \n",
       "11     79556.458574           16.682861             18.009188   \n",
       "31     79576.458574           36.682861             38.009188   \n",
       "\n",
       "    Avg.areas no of bedrooms  Area Population  \n",
       "38                     43.05     23124.800503  \n",
       "45                     50.05     23131.800503  \n",
       "39                     44.05     23125.800503  \n",
       "10                     15.05     23096.800503  \n",
       "50                     55.05     23136.800503  \n",
       "25                     30.05     23111.800503  \n",
       "33                     38.05     23119.800503  \n",
       "36                     41.05     23122.800503  \n",
       "2                       7.05     23088.800503  \n",
       "27                     32.05     23113.800503  \n",
       "34                     39.05     23120.800503  \n",
       "35                     40.05     23121.800503  \n",
       "8                      13.05     23094.800503  \n",
       "19                     24.05     23105.800503  \n",
       "29                     34.05     23115.800503  \n",
       "12                     17.05     23098.800503  \n",
       "5                      10.05     23091.800503  \n",
       "0                       5.05     23086.800503  \n",
       "28                     33.05     23114.800503  \n",
       "42                     47.05     23128.800503  \n",
       "4                       9.05     23090.800503  \n",
       "40                     45.05     23126.800503  \n",
       "13                     18.05     23099.800503  \n",
       "9                      14.05     23095.800503  \n",
       "49                     54.05     23135.800503  \n",
       "23                     28.05     23109.800503  \n",
       "6                      11.05     23092.800503  \n",
       "17                     22.05     23103.800503  \n",
       "11                     16.05     23097.800503  \n",
       "31                     36.05     23117.800503  "
      ]
     },
     "execution_count": 14,
     "metadata": {},
     "output_type": "execute_result"
    }
   ],
   "source": [
    "X_train"
   ]
  },
  {
   "cell_type": "code",
   "execution_count": 15,
   "metadata": {},
   "outputs": [],
   "source": [
    "from sklearn.linear_model import LinearRegression"
   ]
  },
  {
   "cell_type": "code",
   "execution_count": 16,
   "metadata": {},
   "outputs": [],
   "source": [
    "lm = LinearRegression()"
   ]
  },
  {
   "cell_type": "code",
   "execution_count": 17,
   "metadata": {},
   "outputs": [
    {
     "data": {
      "text/plain": [
       "LinearRegression()"
      ]
     },
     "execution_count": 17,
     "metadata": {},
     "output_type": "execute_result"
    }
   ],
   "source": [
    "lm.fit(X_train, y_train)"
   ]
  },
  {
   "cell_type": "code",
   "execution_count": 20,
   "metadata": {},
   "outputs": [
    {
     "data": {
      "text/plain": [
       "Index(['Avg.area income', 'Avg.area House age', 'Avg.area no of rooms',\n",
       "       'Avg.areas no of bedrooms', 'Area Population'],\n",
       "      dtype='object')"
      ]
     },
     "execution_count": 20,
     "metadata": {},
     "output_type": "execute_result"
    }
   ],
   "source": [
    "X_train.columns"
   ]
  },
  {
   "cell_type": "code",
   "execution_count": 21,
   "metadata": {
    "scrolled": true
   },
   "outputs": [],
   "source": [
    "coeff_df = pd.DataFrame(lm.coef_,X.columns,columns=['Coefficient'])"
   ]
  },
  {
   "cell_type": "code",
   "execution_count": 22,
   "metadata": {},
   "outputs": [
    {
     "data": {
      "text/plain": [
       "LinearRegression()"
      ]
     },
     "execution_count": 22,
     "metadata": {},
     "output_type": "execute_result"
    }
   ],
   "source": [
    "lm.fit(X, y)"
   ]
  },
  {
   "cell_type": "code",
   "execution_count": 23,
   "metadata": {},
   "outputs": [
    {
     "name": "stdout",
     "output_type": "stream",
     "text": [
      "(5,)\n",
      "(51, 5)\n"
     ]
    }
   ],
   "source": [
    "print(lm.coef_.shape)  \n",
    "print(X.shape)       "
   ]
  },
  {
   "cell_type": "code",
   "execution_count": 24,
   "metadata": {},
   "outputs": [
    {
     "data": {
      "text/plain": [
       "Index(['Avg.area income', 'Avg.area House age', 'Avg.area no of rooms',\n",
       "       'Avg.areas no of bedrooms', 'Area Population'],\n",
       "      dtype='object')"
      ]
     },
     "execution_count": 24,
     "metadata": {},
     "output_type": "execute_result"
    }
   ],
   "source": [
    "X_train.columns"
   ]
  },
  {
   "cell_type": "code",
   "execution_count": 25,
   "metadata": {},
   "outputs": [],
   "source": [
    "coeff_df = pd.DataFrame(lm.coef_,X.columns,columns=['Coefficient'])"
   ]
  },
  {
   "cell_type": "code",
   "execution_count": 26,
   "metadata": {},
   "outputs": [
    {
     "data": {
      "text/html": [
       "<div>\n",
       "<style scoped>\n",
       "    .dataframe tbody tr th:only-of-type {\n",
       "        vertical-align: middle;\n",
       "    }\n",
       "\n",
       "    .dataframe tbody tr th {\n",
       "        vertical-align: top;\n",
       "    }\n",
       "\n",
       "    .dataframe thead th {\n",
       "        text-align: right;\n",
       "    }\n",
       "</style>\n",
       "<table border=\"1\" class=\"dataframe\">\n",
       "  <thead>\n",
       "    <tr style=\"text-align: right;\">\n",
       "      <th></th>\n",
       "      <th>Coefficient</th>\n",
       "    </tr>\n",
       "  </thead>\n",
       "  <tbody>\n",
       "    <tr>\n",
       "      <th>Avg.area income</th>\n",
       "      <td>-0.049936</td>\n",
       "    </tr>\n",
       "    <tr>\n",
       "      <th>Avg.area House age</th>\n",
       "      <td>0.283320</td>\n",
       "    </tr>\n",
       "    <tr>\n",
       "      <th>Avg.area no of rooms</th>\n",
       "      <td>0.283293</td>\n",
       "    </tr>\n",
       "    <tr>\n",
       "      <th>Avg.areas no of bedrooms</th>\n",
       "      <td>0.283335</td>\n",
       "    </tr>\n",
       "    <tr>\n",
       "      <th>Area Population</th>\n",
       "      <td>0.199988</td>\n",
       "    </tr>\n",
       "  </tbody>\n",
       "</table>\n",
       "</div>"
      ],
      "text/plain": [
       "                          Coefficient\n",
       "Avg.area income             -0.049936\n",
       "Avg.area House age           0.283320\n",
       "Avg.area no of rooms         0.283293\n",
       "Avg.areas no of bedrooms     0.283335\n",
       "Area Population              0.199988"
      ]
     },
     "execution_count": 26,
     "metadata": {},
     "output_type": "execute_result"
    }
   ],
   "source": [
    "coeff_df"
   ]
  },
  {
   "cell_type": "code",
   "execution_count": 27,
   "metadata": {},
   "outputs": [],
   "source": [
    "prediction = lm.predict(X_test)"
   ]
  },
  {
   "cell_type": "code",
   "execution_count": 28,
   "metadata": {},
   "outputs": [
    {
     "data": {
      "text/plain": [
       "<matplotlib.collections.PathCollection at 0x1e2093d6eb0>"
      ]
     },
     "execution_count": 28,
     "metadata": {},
     "output_type": "execute_result"
    },
    {
     "data": {
      "image/png": "[encoded data removed]",
      "text/plain": [
       "<Figure size 432x288 with 1 Axes>"
      ]
     },
     "metadata": {
      "needs_background": "light"
     },
     "output_type": "display_data"
    }
   ],
   "source": [
    "plt.scatter(y_test, prediction )"
   ]
  },
  {
   "cell_type": "code",
   "execution_count": 29,
   "metadata": {},
   "outputs": [
    {
     "name": "stderr",
     "output_type": "stream",
     "text": [
      "C:\\ProgramData\\Anaconda3\\lib\\site-packages\\seaborn\\distributions.py:283: UserWarning: Data must have variance to compute a kernel density estimate.\n",
      "  warnings.warn(msg, UserWarning)\n"
     ]
    },
    {
     "data": {
      "image/png": "[encoded data removed]",
      "text/plain": [
       "<Figure size 432x288 with 1 Axes>"
      ]
     },
     "metadata": {
      "needs_background": "light"
     },
     "output_type": "display_data"
    }
   ],
   "source": [
    "sns.distplot((y_test-prediction),bins=50);"
   ]
  },
  {
   "cell_type": "code",
   "execution_count": null,
   "metadata": {},
   "outputs": [],
   "source": []
  }
 ],
 "metadata": {
  "kernelspec": {
   "display_name": "Python 3",
   "language": "python",
   "name": "python3"
  },
  "language_info": {
   "codemirror_mode": {
    "name": "ipython",
    "version": 3
   },
   "file_extension": ".py",
   "mimetype": "text/x-python",
   "name": "python",
   "nbconvert_exporter": "python",
   "pygments_lexer": "ipython3",
   "version": "3.8.3"
  }
 },
 "nbformat": 4,
 "nbformat_minor": 4
}
